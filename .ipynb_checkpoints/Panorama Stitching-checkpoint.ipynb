{
 "cells": [
  {
   "cell_type": "markdown",
   "id": "157dbad6-27e2-48f4-8ba6-4b38a83266ff",
   "metadata": {},
   "source": [
    "### Source Images from Open Adobe Project\n",
    "[Adobe Panoramas](https://liquidtelecom.dl.sourceforge.net/project/adobedatasets.adobe/adobe_panoramas.tgz)"
   ]
  },
  {
   "cell_type": "code",
   "execution_count": 7,
   "id": "1c43837a-4132-4279-aed8-a665665751f7",
   "metadata": {},
   "outputs": [],
   "source": [
    "import numpy as np\n",
    "import cv2 as cv\n",
    "import matplotlib.pyplot as plt\n",
    "%config IPCompleter.greedy=True\n",
    "%config Completer.use_jedi = False"
   ]
  },
  {
   "cell_type": "code",
   "execution_count": 35,
   "id": "8c566d69-6570-405d-904e-71b754f9df90",
   "metadata": {},
   "outputs": [
    {
     "name": "stdout",
     "output_type": "stream",
     "text": [
      "Namespace(input_pairs='adobe_panorama.txt', input_dir='adobe_panorama/', output_dir='adobe_panorama/output', max_length=-1, resize=[1600], resize_float=True, superglue='outdoor', max_keypoints=2048, keypoint_threshold=0.005, nms_radius=3, sinkhorn_iterations=20, match_threshold=0.2, viz=True, eval=False, fast_viz=False, cache=True, show_keypoints=False, viz_extension='png', opencv_display=False, shuffle=False, force_cpu=False)\n",
      "Will resize max dimension to 1600\n",
      "Running inference on device \"cuda\"\n",
      "Loaded SuperPoint model\n",
      "Loaded SuperGlue model (\"outdoor\" weights)\n",
      "Looking for data in directory \"adobe_panorama\"\n",
      "Will write matches to directory \"adobe_panorama\\output\"\n",
      "Will write visualization images to directory \"adobe_panorama\\output\"\n",
      "[Finished pair     0 of     7] load_cache=0.155 total=0.155 sec {6.4 FPS} \n",
      "[Finished pair     1 of     7] load_cache=0.112 total=0.112 sec {8.9 FPS} \n",
      "[Finished pair     2 of     7] load_cache=0.082 total=0.082 sec {12.2 FPS} \n",
      "[Finished pair     3 of     7] load_cache=0.066 total=0.066 sec {15.2 FPS} \n",
      "[Finished pair     4 of     7] load_cache=0.050 total=0.050 sec {19.9 FPS} \n",
      "[Finished pair     5 of     7] load_cache=0.040 total=0.040 sec {25.3 FPS} \n",
      "[Finished pair     6 of     7] load_cache=0.031 total=0.031 sec {32.3 FPS} \n"
     ]
    }
   ],
   "source": [
    "# generating the necessary txt files to input for the super glue algorithm\n",
    "img_name = 'hotel'\n",
    "num_images = 8\n",
    "with open('adobe_panorama.txt', 'w') as file:\n",
    "    for i in range(num_images -1):\n",
    "        file.write(\"{img}-{:02}.png {img}-{:02}.png\\n\".format(i,i+1, img = img_name))\n",
    "        \n",
    "# Running the super glue algorithm on outdoor dataset to match features\n",
    "!python match_pairs.py  --resize 1600 --superglue outdoor\\\n",
    "                        --max_keypoints 2048 --nms_radius 3\\\n",
    "                        --resize_float \\\n",
    "                        --input_dir adobe_panorama/ \\\n",
    "                        --input_pairs adobe_panorama.txt \\\n",
    "                        --output_dir adobe_panorama/output \\\n",
    "                        --viz --cache "
   ]
  },
  {
   "cell_type": "code",
   "execution_count": 52,
   "id": "8e70f2e9-f4c4-4fa7-b43e-eaec8d1b679a",
   "metadata": {},
   "outputs": [
    {
     "name": "stdout",
     "output_type": "stream",
     "text": [
      "['keypoints0', 'keypoints1', 'matches', 'match_confidence']\n"
     ]
    }
   ],
   "source": [
    "#generatig the npz files for extract matching information\n",
    "npz_files = [\"{img}-{:02}_{img}-{:02}_matches.npz\".format(i,i+1, img = img_name) for i in range(num_images -1)]\n",
    "for file in npz_files:\n",
    "    path = 'adobe_panorama/output/'+file\n",
    "    npz = np.load(path)\n",
    "print(npz.files)"
   ]
  },
  {
   "cell_type": "markdown",
   "id": "3315870c-7d76-48d9-80b2-577ef1f3bf8c",
   "metadata": {},
   "source": [
    "For each keypoint in `keypoints0`, the `matches` array indicates the index of the matching keypoint in `keypoints1`, or `-1` if the keypoint is unmatched.\n",
    "\n",
    "```python\n",
    ">>> import numpy as np\n",
    ">>> path = 'dump_match_pairs/scene0711_00_frame-001680_scene0711_00_frame-001995_matches.npz'\n",
    ">>> npz = np.load(path)\n",
    ">>> npz.files\n",
    "['keypoints0', 'keypoints1', 'matches', 'match_confidence']\n",
    ">>> npz['keypoints0'].shape\n",
    "(382, 2)\n",
    ">>> npz['keypoints1'].shape\n",
    "(391, 2)\n",
    ">>> npz['matches'].shape\n",
    "(382,)\n",
    ">>> np.sum(npz['matches']>-1)\n",
    "115\n",
    ">>> npz['match_confidence'].shape\n",
    "(382,)\n",
    "```"
   ]
  },
  {
   "cell_type": "code",
   "execution_count": 108,
   "id": "ef2c172b-8bd6-4655-a7d8-c420fdfd3bfd",
   "metadata": {},
   "outputs": [
    {
     "ename": "IndexError",
     "evalue": "boolean index did not match indexed array along dimension 0; dimension is 2048 but corresponding boolean dimension is 1809",
     "output_type": "error",
     "traceback": [
      "\u001b[1;31m---------------------------------------------------------------------------\u001b[0m",
      "\u001b[1;31mIndexError\u001b[0m                                Traceback (most recent call last)",
      "\u001b[1;32m<ipython-input-108-68c41863c004>\u001b[0m in \u001b[0;36m<module>\u001b[1;34m\u001b[0m\n\u001b[0;32m      4\u001b[0m \u001b[0mpoint_set1\u001b[0m \u001b[1;33m=\u001b[0m \u001b[0mnpz\u001b[0m\u001b[1;33m[\u001b[0m\u001b[1;34m'keypoints0'\u001b[0m\u001b[1;33m]\u001b[0m\u001b[1;33m\u001b[0m\u001b[1;33m\u001b[0m\u001b[0m\n\u001b[0;32m      5\u001b[0m \u001b[0mmatching_indexes\u001b[0m \u001b[1;33m=\u001b[0m  \u001b[0mnpz\u001b[0m\u001b[1;33m[\u001b[0m\u001b[1;34m'matches'\u001b[0m\u001b[1;33m]\u001b[0m \u001b[1;33m>\u001b[0m \u001b[1;33m-\u001b[0m\u001b[1;36m1\u001b[0m\u001b[1;33m\u001b[0m\u001b[1;33m\u001b[0m\u001b[0m\n\u001b[1;32m----> 6\u001b[1;33m \u001b[0mpoint_set2\u001b[0m \u001b[1;33m=\u001b[0m \u001b[0mnpz\u001b[0m\u001b[1;33m[\u001b[0m\u001b[1;34m'keypoints1'\u001b[0m\u001b[1;33m]\u001b[0m\u001b[1;33m[\u001b[0m\u001b[0mmatching_indexes\u001b[0m \u001b[1;33m==\u001b[0m \u001b[1;32mTrue\u001b[0m\u001b[1;33m]\u001b[0m\u001b[1;33m\u001b[0m\u001b[1;33m\u001b[0m\u001b[0m\n\u001b[0m\u001b[0;32m      7\u001b[0m \u001b[1;33m\u001b[0m\u001b[0m\n\u001b[0;32m      8\u001b[0m \u001b[0mprint\u001b[0m\u001b[1;33m(\u001b[0m\u001b[0mlen\u001b[0m\u001b[1;33m(\u001b[0m\u001b[0mmatching_points\u001b[0m\u001b[1;33m)\u001b[0m\u001b[1;33m)\u001b[0m\u001b[1;33m\u001b[0m\u001b[1;33m\u001b[0m\u001b[0m\n",
      "\u001b[1;31mIndexError\u001b[0m: boolean index did not match indexed array along dimension 0; dimension is 2048 but corresponding boolean dimension is 1809"
     ]
    }
   ],
   "source": [
    "# testing with one pair of images \n",
    "npz = np.load('adobe_panorama/output/'+npz_files[0])\n",
    "npz.files\n",
    "point_set1 = npz['keypoints0']\n",
    "matching_indexes =  npz['matches'] > -1\n",
    "point_set2 = [npz['keypoints1']\n",
    "\n",
    "print(len(matching_points))\n",
    "H, status = cv.findHomography(point_set1, point_set2)#, cv.RANSAC, 5.0) # computing H to transform right_image to left_image\n",
    "print(H)\n",
    "H = np.linalg.inv(H)\n",
    "H = H/H[-1,-1]\n",
    "print(H)"
   ]
  },
  {
   "cell_type": "code",
   "execution_count": 59,
   "id": "4b31764c-9d0a-4aaa-99b6-ffeb538008ad",
   "metadata": {},
   "outputs": [
    {
     "data": {
      "text/plain": [
       "(1809, 2)"
      ]
     },
     "execution_count": 59,
     "metadata": {},
     "output_type": "execute_result"
    }
   ],
   "source": [
    "npz['keypoints0'].shape"
   ]
  },
  {
   "cell_type": "code",
   "execution_count": 72,
   "id": "73ec224b-a1a0-4dfa-ac4b-afffffaf136a",
   "metadata": {},
   "outputs": [
    {
     "data": {
      "text/plain": [
       "(2048, 2)"
      ]
     },
     "execution_count": 72,
     "metadata": {},
     "output_type": "execute_result"
    }
   ],
   "source": [
    "npz['keypoints1'].shape"
   ]
  },
  {
   "cell_type": "code",
   "execution_count": 61,
   "id": "f57b1301-66c4-4c6a-a02a-322ed7ce44d0",
   "metadata": {},
   "outputs": [
    {
     "data": {
      "text/plain": [
       "(1809,)"
      ]
     },
     "execution_count": 61,
     "metadata": {},
     "output_type": "execute_result"
    }
   ],
   "source": [
    "npz['matches'].shape"
   ]
  },
  {
   "cell_type": "code",
   "execution_count": 106,
   "id": "6580e2ed-db75-4f44-9775-9a6545020e20",
   "metadata": {},
   "outputs": [
    {
     "data": {
      "text/plain": [
       "array([False,  True, False,  True,  True,  True,  True,  True, False,\n",
       "       False, False, False, False,  True,  True,  True,  True, False,\n",
       "        True,  True,  True,  True, False, False,  True, False, False,\n",
       "       False, False,  True, False,  True,  True,  True,  True,  True,\n",
       "        True,  True,  True,  True,  True,  True,  True,  True,  True,\n",
       "       False, False, False, False,  True,  True,  True,  True,  True,\n",
       "        True,  True,  True, False,  True,  True,  True,  True,  True,\n",
       "        True, False,  True,  True,  True,  True,  True, False, False,\n",
       "        True, False,  True, False,  True,  True, False,  True, False,\n",
       "        True,  True,  True,  True, False,  True,  True, False, False,\n",
       "       False, False, False, False,  True,  True, False,  True,  True,\n",
       "       False, False, False, False, False, False, False, False, False,\n",
       "       False,  True,  True, False,  True, False, False, False, False,\n",
       "       False, False,  True,  True, False, False,  True,  True, False,\n",
       "       False,  True, False, False,  True, False, False, False,  True,\n",
       "        True, False, False, False, False,  True,  True, False, False,\n",
       "        True,  True, False,  True,  True, False, False, False, False,\n",
       "       False, False, False,  True,  True,  True, False,  True,  True,\n",
       "        True,  True,  True,  True,  True, False, False,  True,  True,\n",
       "       False,  True,  True,  True,  True,  True,  True,  True,  True,\n",
       "        True, False,  True, False,  True,  True,  True, False,  True,\n",
       "        True,  True, False,  True, False, False,  True, False,  True,\n",
       "       False,  True])"
      ]
     },
     "execution_count": 106,
     "metadata": {},
     "output_type": "execute_result"
    }
   ],
   "source": [
    "match = npz['matches']>-1\n",
    "match[1000:1200]"
   ]
  },
  {
   "cell_type": "code",
   "execution_count": 105,
   "id": "d3cb0233-8567-436c-b013-fe0202b274c4",
   "metadata": {},
   "outputs": [
    {
     "data": {
      "text/plain": [
       "array([[1143.,  404.],\n",
       "       [1143.,  404.],\n",
       "       [1143.,  404.],\n",
       "       ...,\n",
       "       [1143.,  404.],\n",
       "       [1143.,  404.],\n",
       "       [1143.,  404.]], dtype=float32)"
      ]
     },
     "execution_count": 105,
     "metadata": {},
     "output_type": "execute_result"
    }
   ],
   "source": [
    "npz['keypoints1'][matching_indexes]"
   ]
  },
  {
   "cell_type": "code",
   "execution_count": 86,
   "id": "b2ecff85-bdac-44d4-a389-b80e512a42ae",
   "metadata": {},
   "outputs": [
    {
     "ename": "IndexError",
     "evalue": "too many indices for array: array is 1-dimensional, but 2 were indexed",
     "output_type": "error",
     "traceback": [
      "\u001b[1;31m---------------------------------------------------------------------------\u001b[0m",
      "\u001b[1;31mIndexError\u001b[0m                                Traceback (most recent call last)",
      "\u001b[1;32m<ipython-input-86-66936b3ac2b6>\u001b[0m in \u001b[0;36m<module>\u001b[1;34m\u001b[0m\n\u001b[1;32m----> 1\u001b[1;33m \u001b[0mnp\u001b[0m\u001b[1;33m.\u001b[0m\u001b[0marray\u001b[0m\u001b[1;33m(\u001b[0m\u001b[1;33m[\u001b[0m\u001b[1;36m1\u001b[0m\u001b[1;33m,\u001b[0m\u001b[1;36m2\u001b[0m\u001b[1;33m,\u001b[0m\u001b[1;36m3\u001b[0m\u001b[1;33m,\u001b[0m\u001b[1;36m4\u001b[0m\u001b[1;33m]\u001b[0m\u001b[1;33m)\u001b[0m\u001b[1;33m[\u001b[0m\u001b[1;36m0\u001b[0m\u001b[1;33m,\u001b[0m\u001b[1;36m2\u001b[0m\u001b[1;33m]\u001b[0m\u001b[1;33m\u001b[0m\u001b[1;33m\u001b[0m\u001b[0m\n\u001b[0m",
      "\u001b[1;31mIndexError\u001b[0m: too many indices for array: array is 1-dimensional, but 2 were indexed"
     ]
    }
   ],
   "source": []
  },
  {
   "cell_type": "code",
   "execution_count": null,
   "id": "d348a743-907a-4b95-9907-82d79648434a",
   "metadata": {},
   "outputs": [],
   "source": []
  }
 ],
 "metadata": {
  "kernelspec": {
   "display_name": "Python 3",
   "language": "python",
   "name": "python3"
  },
  "language_info": {
   "codemirror_mode": {
    "name": "ipython",
    "version": 3
   },
   "file_extension": ".py",
   "mimetype": "text/x-python",
   "name": "python",
   "nbconvert_exporter": "python",
   "pygments_lexer": "ipython3",
   "version": "3.9.5"
  }
 },
 "nbformat": 4,
 "nbformat_minor": 5
}
